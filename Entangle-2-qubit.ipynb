{
 "cells": [
  {
   "cell_type": "code",
   "execution_count": 1,
   "id": "7e0d6cc0-113a-4f1c-b926-994828b75eba",
   "metadata": {},
   "outputs": [],
   "source": [
    "import numpy as np\n",
    "\n",
    "# Importing standard Qiskit libraries\n",
    "from qiskit import QuantumCircuit, transpile, Aer, IBMQ\n",
    "from qiskit.tools.jupyter import *\n",
    "from qiskit.visualization import *\n",
    "from ibm_quantum_widgets import *\n",
    "from qiskit.providers.aer import QasmSimulator\n",
    "\n",
    "# Loading your IBM Quantum account(s)\n",
    "provider = IBMQ.load_account()"
   ]
  },
  {
   "cell_type": "markdown",
   "id": "69f1541d-ec67-4e6f-8f8b-51391aca9a0b",
   "metadata": {},
   "source": [
    "**Entangling 2 qubits with Hadamard and CNOT gates."
   ]
  },
  {
   "cell_type": "code",
   "execution_count": 2,
   "id": "0fd1fc0d-7636-4b2f-95c4-8e411e60354a",
   "metadata": {},
   "outputs": [
    {
     "name": "stdout",
     "output_type": "stream",
     "text": [
      "Clbit(ClassicalRegister(2, 'c'), 0) Clbit(ClassicalRegister(2, 'c'), 1)\n"
     ]
    }
   ],
   "source": [
    "from qiskit import QuantumRegister, ClassicalRegister, QuantumCircuit\n",
    "from numpy import pi\n",
    "\n",
    "qreg_q = QuantumRegister(2, 'q')\n",
    "creg_c = ClassicalRegister(2, 'c')\n",
    "circuit = QuantumCircuit(qreg_q, creg_c)\n",
    "\n",
    "#Superpostion\n",
    "circuit.h(qreg_q[0])\n",
    "circuit.h(qreg_q[1])\n",
    "\n",
    "#Entanglements\n",
    "circuit.cx(qreg_q[0], qreg_q[1])\n",
    "\n",
    "#Measurement\n",
    "circuit.measure(qreg_q[0], creg_c[0])\n",
    "circuit.measure(qreg_q[1], creg_c[1])\n",
    "\n",
    "print( creg_c[0],creg_c[1])"
   ]
  },
  {
   "cell_type": "code",
   "execution_count": null,
   "id": "a133edc3-f197-41a3-b41c-32d7f256541d",
   "metadata": {},
   "outputs": [],
   "source": []
  }
 ],
 "metadata": {
  "kernelspec": {
   "display_name": "Qiskit v0.34.1 (ipykernel)",
   "language": "python",
   "name": "python3"
  },
  "language_info": {
   "codemirror_mode": {
    "name": "ipython",
    "version": 3
   },
   "file_extension": ".py",
   "mimetype": "text/x-python",
   "name": "python",
   "nbconvert_exporter": "python",
   "pygments_lexer": "ipython3",
   "version": "3.8.12"
  },
  "widgets": {
   "application/vnd.jupyter.widget-state+json": {
    "state": {
     "04bb50899475449192973e4df9195d20": {
      "model_module": "@jupyter-widgets/base",
      "model_module_version": "1.2.0",
      "model_name": "LayoutModel",
      "state": {
       "margin": "0px 0px 0px 37px",
       "width": "600px"
      }
     },
     "086e267756124d4baccce9cd56cb50b4": {
      "model_module": "@jupyter-widgets/controls",
      "model_module_version": "1.5.0",
      "model_name": "HTMLModel",
      "state": {
       "layout": "IPY_MODEL_cd405f9f597f4144ac4d225659c6ab8b",
       "style": "IPY_MODEL_3afc758bec1846d182365590ae17779d",
       "value": "<p style='font-family: IBM Plex Sans, Arial, Helvetica, sans-serif; font-size: 20px; font-weight: medium;'>Circuit Properties</p>"
      }
     },
     "0cf67b9aad144b4e81990ab36ec90121": {
      "model_module": "@jupyter-widgets/controls",
      "model_module_version": "1.5.0",
      "model_name": "DescriptionStyleModel",
      "state": {
       "description_width": ""
      }
     },
     "1ef8972cd52c4603b7632d7d1a3fc146": {
      "model_module": "@jupyter-widgets/controls",
      "model_module_version": "1.5.0",
      "model_name": "DescriptionStyleModel",
      "state": {
       "description_width": ""
      }
     },
     "2f7d3ebccb0848fba05e515c237d4ace": {
      "model_module": "@jupyter-widgets/controls",
      "model_module_version": "1.5.0",
      "model_name": "ButtonStyleModel",
      "state": {}
     },
     "3afc758bec1846d182365590ae17779d": {
      "model_module": "@jupyter-widgets/controls",
      "model_module_version": "1.5.0",
      "model_name": "DescriptionStyleModel",
      "state": {
       "description_width": ""
      }
     },
     "3c68f8299c644a018d8627d53c752f9e": {
      "model_module": "@jupyter-widgets/base",
      "model_module_version": "1.2.0",
      "model_name": "LayoutModel",
      "state": {}
     },
     "3e8348fb46ab4ad995a17aa6d9dacb87": {
      "model_module": "@jupyter-widgets/controls",
      "model_module_version": "1.5.0",
      "model_name": "DescriptionStyleModel",
      "state": {
       "description_width": ""
      }
     },
     "520b8ea9280541b98d25cf91713eb60c": {
      "model_module": "@jupyter-widgets/base",
      "model_module_version": "1.2.0",
      "model_name": "LayoutModel",
      "state": {
       "grid_area": "right",
       "padding": "0px 0px 0px 0px",
       "width": "70px"
      }
     },
     "5304a66b03cb45abae2af19ea5f9407e": {
      "model_module": "@jupyter-widgets/controls",
      "model_module_version": "1.5.0",
      "model_name": "HTMLModel",
      "state": {
       "layout": "IPY_MODEL_a6626962431741949e8fab1c18437464",
       "style": "IPY_MODEL_0cf67b9aad144b4e81990ab36ec90121",
       "value": "<h5>Backend</h5>"
      }
     },
     "64548719aee048ba9a75eeb40cda3701": {
      "model_module": "@jupyter-widgets/controls",
      "model_module_version": "1.5.0",
      "model_name": "HTMLModel",
      "state": {
       "layout": "IPY_MODEL_ac5cb4aec5e1467fa2aa23cd7ab1beac",
       "style": "IPY_MODEL_dc7a8261249f4b9da6b11b5f7fcc8c79",
       "value": "<h5>Queue</h5>"
      }
     },
     "6754a1a6862a4e53a821508d883c8034": {
      "model_module": "@jupyter-widgets/controls",
      "model_module_version": "1.5.0",
      "model_name": "GridBoxModel",
      "state": {
       "children": [
        "IPY_MODEL_b616c56c8dda43d38e2c9a00743ed65e"
       ],
       "layout": "IPY_MODEL_9dc1a8e562334b69ba63bf1bea1a9568"
      }
     },
     "6c5db68f91c24c568bd3e39f8bea49ca": {
      "model_module": "@jupyter-widgets/base",
      "model_module_version": "1.2.0",
      "model_name": "LayoutModel",
      "state": {
       "width": "190px"
      }
     },
     "84fffeade8254e42bbbb6d42db5bb228": {
      "model_module": "@jupyter-widgets/controls",
      "model_module_version": "1.5.0",
      "model_name": "HTMLModel",
      "state": {
       "layout": "IPY_MODEL_6c5db68f91c24c568bd3e39f8bea49ca",
       "style": "IPY_MODEL_b0033184c26e41128975c14ca7da0469",
       "value": "<h5>Job ID</h5>"
      }
     },
     "938159dd4cef4c0080e124e283af7cff": {
      "model_module": "@jupyter-widgets/controls",
      "model_module_version": "1.5.0",
      "model_name": "HTMLModel",
      "state": {
       "layout": "IPY_MODEL_3c68f8299c644a018d8627d53c752f9e",
       "style": "IPY_MODEL_3e8348fb46ab4ad995a17aa6d9dacb87",
       "value": "<h5>Message</h5>"
      }
     },
     "947353d7ccfc4a5195de2b9667399641": {
      "model_module": "@jupyter-widgets/base",
      "model_module_version": "1.2.0",
      "model_name": "LayoutModel",
      "state": {
       "width": "95px"
      }
     },
     "9dc1a8e562334b69ba63bf1bea1a9568": {
      "model_module": "@jupyter-widgets/base",
      "model_module_version": "1.2.0",
      "model_name": "LayoutModel",
      "state": {
       "grid_template_areas": "\n                                       \". . . . right \"\n                                        ",
       "grid_template_columns": "20% 20% 20% 20% 20%",
       "width": "100%"
      }
     },
     "a6626962431741949e8fab1c18437464": {
      "model_module": "@jupyter-widgets/base",
      "model_module_version": "1.2.0",
      "model_name": "LayoutModel",
      "state": {
       "width": "145px"
      }
     },
     "ac5cb4aec5e1467fa2aa23cd7ab1beac": {
      "model_module": "@jupyter-widgets/base",
      "model_module_version": "1.2.0",
      "model_name": "LayoutModel",
      "state": {
       "width": "70px"
      }
     },
     "b0033184c26e41128975c14ca7da0469": {
      "model_module": "@jupyter-widgets/controls",
      "model_module_version": "1.5.0",
      "model_name": "DescriptionStyleModel",
      "state": {
       "description_width": ""
      }
     },
     "b616c56c8dda43d38e2c9a00743ed65e": {
      "model_module": "@jupyter-widgets/controls",
      "model_module_version": "1.5.0",
      "model_name": "ButtonModel",
      "state": {
       "button_style": "primary",
       "description": "Clear",
       "layout": "IPY_MODEL_520b8ea9280541b98d25cf91713eb60c",
       "style": "IPY_MODEL_2f7d3ebccb0848fba05e515c237d4ace"
      }
     },
     "c5f5019871fb44018d477cf39ca10b97": {
      "model_module": "@jupyter-widgets/controls",
      "model_module_version": "1.5.0",
      "model_name": "HBoxModel",
      "state": {
       "children": [
        "IPY_MODEL_84fffeade8254e42bbbb6d42db5bb228",
        "IPY_MODEL_5304a66b03cb45abae2af19ea5f9407e",
        "IPY_MODEL_cb71ee5a78524ffda721498453e274a2",
        "IPY_MODEL_64548719aee048ba9a75eeb40cda3701",
        "IPY_MODEL_938159dd4cef4c0080e124e283af7cff"
       ],
       "layout": "IPY_MODEL_04bb50899475449192973e4df9195d20"
      }
     },
     "cb71ee5a78524ffda721498453e274a2": {
      "model_module": "@jupyter-widgets/controls",
      "model_module_version": "1.5.0",
      "model_name": "HTMLModel",
      "state": {
       "layout": "IPY_MODEL_947353d7ccfc4a5195de2b9667399641",
       "style": "IPY_MODEL_1ef8972cd52c4603b7632d7d1a3fc146",
       "value": "<h5>Status</h5>"
      }
     },
     "cd405f9f597f4144ac4d225659c6ab8b": {
      "model_module": "@jupyter-widgets/base",
      "model_module_version": "1.2.0",
      "model_name": "LayoutModel",
      "state": {
       "margin": "0px 0px 10px 0px"
      }
     },
     "dc7a8261249f4b9da6b11b5f7fcc8c79": {
      "model_module": "@jupyter-widgets/controls",
      "model_module_version": "1.5.0",
      "model_name": "DescriptionStyleModel",
      "state": {
       "description_width": ""
      }
     }
    },
    "version_major": 2,
    "version_minor": 0
   }
  }
 },
 "nbformat": 4,
 "nbformat_minor": 5
}
