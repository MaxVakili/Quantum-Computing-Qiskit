{
 "cells": [
  {
   "cell_type": "code",
   "execution_count": 1,
   "id": "2ec5f324-a590-4986-a881-d115376aa127",
   "metadata": {},
   "outputs": [
    {
     "name": "stderr",
     "output_type": "stream",
     "text": [
      "Matplotlib is building the font cache; this may take a moment.\n"
     ]
    }
   ],
   "source": [
    "import numpy as np\n",
    "\n",
    "# Importing standard Qiskit libraries\n",
    "from qiskit import QuantumCircuit, transpile, Aer, IBMQ\n",
    "from qiskit.tools.jupyter import *\n",
    "from qiskit.visualization import *\n",
    "from ibm_quantum_widgets import *\n",
    "from qiskit.providers.aer import QasmSimulator\n",
    "\n",
    "# Loading your IBM Quantum account(s)\n",
    "provider = IBMQ.load_account()"
   ]
  },
  {
   "cell_type": "markdown",
   "id": "221f01e6-c515-4adf-abc4-3afd7eda2100",
   "metadata": {},
   "source": [
    "Measuring the fidelity of the Hadamard Gate 2000 times"
   ]
  },
  {
   "cell_type": "code",
   "execution_count": 4,
   "id": "0dcda987-6a8e-45b8-b05c-04fec9056155",
   "metadata": {},
   "outputs": [
    {
     "name": "stdout",
     "output_type": "stream",
     "text": [
      "Qubit(QuantumRegister(1, 'q'), 0) Clbit(ClassicalRegister(1, 'c'), 0)\n"
     ]
    }
   ],
   "source": [
    "from qiskit import QuantumRegister, ClassicalRegister, QuantumCircuit\n",
    "from numpy import pi\n",
    "\n",
    "qreg_q = QuantumRegister(1, 'q')\n",
    "creg_c = ClassicalRegister(1, 'c')\n",
    "circuit = QuantumCircuit(qreg_q, creg_c)\n",
    "\n",
    "#Doing 1000 repetition\n",
    "for i in range(1000):\n",
    "    circuit.h(qreg_q[0])\n",
    "    circuit.h(qreg_q[0])\n",
    "    \n",
    "circuit.measure(qreg_q[0], creg_c[0])\n",
    "print(qreg_q[0], creg_c[0])"
   ]
  },
  {
   "cell_type": "code",
   "execution_count": null,
   "id": "15d789e6-bff3-46a3-8756-20712ae57a4d",
   "metadata": {},
   "outputs": [],
   "source": []
  }
 ],
 "metadata": {
  "kernelspec": {
   "display_name": "Qiskit v0.34.1 (ipykernel)",
   "language": "python",
   "name": "python3"
  },
  "language_info": {
   "codemirror_mode": {
    "name": "ipython",
    "version": 3
   },
   "file_extension": ".py",
   "mimetype": "text/x-python",
   "name": "python",
   "nbconvert_exporter": "python",
   "pygments_lexer": "ipython3",
   "version": "3.8.12"
  },
  "widgets": {
   "application/vnd.jupyter.widget-state+json": {
    "state": {
     "0aafc83ef19044128208a24b3fccf881": {
      "model_module": "@jupyter-widgets/controls",
      "model_module_version": "1.5.0",
      "model_name": "HTMLModel",
      "state": {
       "layout": "IPY_MODEL_7af8bafe7ed748ecb201877e2517f6de",
       "style": "IPY_MODEL_6721eff32c0d4344bb7b1e13f7e0ff34",
       "value": "<p style='font-family: IBM Plex Sans, Arial, Helvetica, sans-serif; font-size: 20px; font-weight: medium;'>Circuit Properties</p>"
      }
     },
     "0ac1db745cfc4bd486318154e79162a9": {
      "model_module": "@jupyter-widgets/controls",
      "model_module_version": "1.5.0",
      "model_name": "HTMLModel",
      "state": {
       "layout": "IPY_MODEL_149206f5656f4d02aac0c422cb00aeba",
       "style": "IPY_MODEL_680ed84ba4f044a186a174e510ed53cb",
       "value": "<h5>Backend</h5>"
      }
     },
     "149206f5656f4d02aac0c422cb00aeba": {
      "model_module": "@jupyter-widgets/base",
      "model_module_version": "1.2.0",
      "model_name": "LayoutModel",
      "state": {
       "width": "145px"
      }
     },
     "20d1a9e38a544f2497c10328991b08a0": {
      "model_module": "@jupyter-widgets/controls",
      "model_module_version": "1.5.0",
      "model_name": "DescriptionStyleModel",
      "state": {
       "description_width": ""
      }
     },
     "340f92b03e5f4f8b8c448ebfb73c3aec": {
      "model_module": "@jupyter-widgets/controls",
      "model_module_version": "1.5.0",
      "model_name": "DescriptionStyleModel",
      "state": {
       "description_width": ""
      }
     },
     "3e1acd81b5d1457b939139e3ee665427": {
      "model_module": "@jupyter-widgets/controls",
      "model_module_version": "1.5.0",
      "model_name": "DescriptionStyleModel",
      "state": {
       "description_width": ""
      }
     },
     "4639d65dea644e829dfd46706c585697": {
      "model_module": "@jupyter-widgets/controls",
      "model_module_version": "1.5.0",
      "model_name": "HTMLModel",
      "state": {
       "layout": "IPY_MODEL_6398b21e4f734b1b8c18518bec55ab24",
       "style": "IPY_MODEL_3e1acd81b5d1457b939139e3ee665427",
       "value": "<h5>Queue</h5>"
      }
     },
     "4d49575f31284164a59f3efb7cb4f9ef": {
      "model_module": "@jupyter-widgets/base",
      "model_module_version": "1.2.0",
      "model_name": "LayoutModel",
      "state": {
       "width": "190px"
      }
     },
     "4d62d632285949a8b6a1851abaa086e4": {
      "model_module": "@jupyter-widgets/base",
      "model_module_version": "1.2.0",
      "model_name": "LayoutModel",
      "state": {}
     },
     "5f2629dbcec4422ebe4ea68ba1476d9a": {
      "model_module": "@jupyter-widgets/controls",
      "model_module_version": "1.5.0",
      "model_name": "ButtonStyleModel",
      "state": {}
     },
     "6398b21e4f734b1b8c18518bec55ab24": {
      "model_module": "@jupyter-widgets/base",
      "model_module_version": "1.2.0",
      "model_name": "LayoutModel",
      "state": {
       "width": "70px"
      }
     },
     "6721eff32c0d4344bb7b1e13f7e0ff34": {
      "model_module": "@jupyter-widgets/controls",
      "model_module_version": "1.5.0",
      "model_name": "DescriptionStyleModel",
      "state": {
       "description_width": ""
      }
     },
     "680ed84ba4f044a186a174e510ed53cb": {
      "model_module": "@jupyter-widgets/controls",
      "model_module_version": "1.5.0",
      "model_name": "DescriptionStyleModel",
      "state": {
       "description_width": ""
      }
     },
     "6ba805630d6447a0848e1654e53ff19a": {
      "model_module": "@jupyter-widgets/controls",
      "model_module_version": "1.5.0",
      "model_name": "HTMLModel",
      "state": {
       "layout": "IPY_MODEL_4d49575f31284164a59f3efb7cb4f9ef",
       "style": "IPY_MODEL_340f92b03e5f4f8b8c448ebfb73c3aec",
       "value": "<h5>Job ID</h5>"
      }
     },
     "7af8bafe7ed748ecb201877e2517f6de": {
      "model_module": "@jupyter-widgets/base",
      "model_module_version": "1.2.0",
      "model_name": "LayoutModel",
      "state": {
       "margin": "0px 0px 10px 0px"
      }
     },
     "94f9a63af3a54be087c2a55337ae2713": {
      "model_module": "@jupyter-widgets/controls",
      "model_module_version": "1.5.0",
      "model_name": "ButtonModel",
      "state": {
       "button_style": "primary",
       "description": "Clear",
       "layout": "IPY_MODEL_cc053e515156485f9b2ec2f93e1bd8ef",
       "style": "IPY_MODEL_5f2629dbcec4422ebe4ea68ba1476d9a"
      }
     },
     "97258483e21a48e6baca4cdc2f6439f5": {
      "model_module": "@jupyter-widgets/controls",
      "model_module_version": "1.5.0",
      "model_name": "GridBoxModel",
      "state": {
       "children": [
        "IPY_MODEL_94f9a63af3a54be087c2a55337ae2713"
       ],
       "layout": "IPY_MODEL_fb87bb5339d34448826370e718c15310"
      }
     },
     "ae84a608c714481f83b37574ce1edb02": {
      "model_module": "@jupyter-widgets/controls",
      "model_module_version": "1.5.0",
      "model_name": "DescriptionStyleModel",
      "state": {
       "description_width": ""
      }
     },
     "cc053e515156485f9b2ec2f93e1bd8ef": {
      "model_module": "@jupyter-widgets/base",
      "model_module_version": "1.2.0",
      "model_name": "LayoutModel",
      "state": {
       "grid_area": "right",
       "padding": "0px 0px 0px 0px",
       "width": "70px"
      }
     },
     "d1f28ee21d564777ba79e75dc28f7fc7": {
      "model_module": "@jupyter-widgets/base",
      "model_module_version": "1.2.0",
      "model_name": "LayoutModel",
      "state": {
       "width": "95px"
      }
     },
     "d566ae0cda5442ea91f198df2ef2ceac": {
      "model_module": "@jupyter-widgets/controls",
      "model_module_version": "1.5.0",
      "model_name": "HTMLModel",
      "state": {
       "layout": "IPY_MODEL_d1f28ee21d564777ba79e75dc28f7fc7",
       "style": "IPY_MODEL_ae84a608c714481f83b37574ce1edb02",
       "value": "<h5>Status</h5>"
      }
     },
     "f2aa45fb36d4435ba423ccd76682cf2b": {
      "model_module": "@jupyter-widgets/controls",
      "model_module_version": "1.5.0",
      "model_name": "HBoxModel",
      "state": {
       "children": [
        "IPY_MODEL_6ba805630d6447a0848e1654e53ff19a",
        "IPY_MODEL_0ac1db745cfc4bd486318154e79162a9",
        "IPY_MODEL_d566ae0cda5442ea91f198df2ef2ceac",
        "IPY_MODEL_4639d65dea644e829dfd46706c585697",
        "IPY_MODEL_f857cf0522e0411ca75ece9c25ca821f"
       ],
       "layout": "IPY_MODEL_fce355c0ff5d4f25980349059348ad08"
      }
     },
     "f857cf0522e0411ca75ece9c25ca821f": {
      "model_module": "@jupyter-widgets/controls",
      "model_module_version": "1.5.0",
      "model_name": "HTMLModel",
      "state": {
       "layout": "IPY_MODEL_4d62d632285949a8b6a1851abaa086e4",
       "style": "IPY_MODEL_20d1a9e38a544f2497c10328991b08a0",
       "value": "<h5>Message</h5>"
      }
     },
     "fb87bb5339d34448826370e718c15310": {
      "model_module": "@jupyter-widgets/base",
      "model_module_version": "1.2.0",
      "model_name": "LayoutModel",
      "state": {
       "grid_template_areas": "\n                                       \". . . . right \"\n                                        ",
       "grid_template_columns": "20% 20% 20% 20% 20%",
       "width": "100%"
      }
     },
     "fce355c0ff5d4f25980349059348ad08": {
      "model_module": "@jupyter-widgets/base",
      "model_module_version": "1.2.0",
      "model_name": "LayoutModel",
      "state": {
       "margin": "0px 0px 0px 37px",
       "width": "600px"
      }
     }
    },
    "version_major": 2,
    "version_minor": 0
   }
  }
 },
 "nbformat": 4,
 "nbformat_minor": 5
}
